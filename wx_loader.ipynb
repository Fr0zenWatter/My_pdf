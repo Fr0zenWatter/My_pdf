{
 "cells": [
  {
   "cell_type": "code",
   "execution_count": 16,
   "metadata": {},
   "outputs": [
    {
     "data": {
      "text/plain": [
       "1"
      ]
     },
     "execution_count": 16,
     "metadata": {},
     "output_type": "execute_result"
    }
   ],
   "source": [
    "from wxauto import *\n",
    "wx = WeChat()\n",
    "who = \"文件传输助手\"\n",
    "wx.ChatWith(who)\n",
    "#转到文件传输窗口"
   ]
  },
  {
   "cell_type": "code",
   "execution_count": 17,
   "metadata": {},
   "outputs": [
    {
     "name": "stdout",
     "output_type": "stream",
     "text": [
      "2022-11-15 16:14:06.388 wxauto.py[48] SplitMessage -> Find Control Timeout(0s): {ControlType: ButtonControl}\n",
      "2022-11-15 16:14:06.560 wxauto.py[48] SplitMessage -> Find Control Timeout(0s): {ControlType: ButtonControl}\n",
      "['https://arxiv.org/pdf/2211.06514.pdf', 'test']\n"
     ]
    }
   ],
   "source": [
    "wx.LoadMoreMessage\n",
    "msgs = wx.GetAllMessage\n",
    "#获取消息\n",
    "msg = msgs[-1][1]\n",
    "#获取最新消息的，消息部分\n",
    "#分割\n",
    "msg_split = msg.split()\n",
    "print(msg_split)"
   ]
  },
  {
   "cell_type": "code",
   "execution_count": 18,
   "metadata": {},
   "outputs": [],
   "source": [
    "import get_pdf_file"
   ]
  },
  {
   "cell_type": "code",
   "execution_count": 19,
   "metadata": {},
   "outputs": [],
   "source": [
    "get_pdf_file.get_pdf_name(str(msg_split[0]),str(msg_split[1]))"
   ]
  },
  {
   "cell_type": "code",
   "execution_count": null,
   "metadata": {},
   "outputs": [],
   "source": []
  }
 ],
 "metadata": {
  "kernelspec": {
   "display_name": "Python 3.8.10 64-bit",
   "language": "python",
   "name": "python3"
  },
  "language_info": {
   "codemirror_mode": {
    "name": "ipython",
    "version": 3
   },
   "file_extension": ".py",
   "mimetype": "text/x-python",
   "name": "python",
   "nbconvert_exporter": "python",
   "pygments_lexer": "ipython3",
   "version": "3.8.10"
  },
  "orig_nbformat": 4,
  "vscode": {
   "interpreter": {
    "hash": "88c7488a938b2789b876c50cbbff2f9b6b08d2d1af8cf49a2b96f734f0216394"
   }
  }
 },
 "nbformat": 4,
 "nbformat_minor": 2
}
